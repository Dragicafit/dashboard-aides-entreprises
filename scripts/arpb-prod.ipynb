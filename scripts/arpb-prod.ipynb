{
 "cells": [
  {
   "cell_type": "markdown",
   "metadata": {},
   "source": [
    "Doc : https://doc.demarches-simplifiees.fr/pour-aller-plus-loin/graphql et https://demarches-simplifiees-graphql.netlify.app/query.doc.html"
   ]
  },
  {
   "cell_type": "code",
   "execution_count": 1,
   "metadata": {},
   "outputs": [
    {
     "data": {
      "text/plain": [
       "['./secret.ini']"
      ]
     },
     "execution_count": 1,
     "metadata": {},
     "output_type": "execute_result"
    }
   ],
   "source": [
    "import requests\n",
    "import json\n",
    "import pandas as pd\n",
    "pd.options.display.max_columns = 500\n",
    "pd.options.display.max_rows = 500\n",
    "import configparser\n",
    "config = configparser.ConfigParser()\n",
    "config.read('./secret.ini')"
   ]
  },
  {
   "cell_type": "code",
   "execution_count": 2,
   "metadata": {},
   "outputs": [
    {
     "name": "stdout",
     "output_type": "stream",
     "text": [
      "200\n",
      "200\n"
     ]
    }
   ],
   "source": [
    "arr = []\n",
    "endCursor = ''\n",
    "hasNextPage = True\n",
    "while(hasNextPage):\n",
    "    query = \"\"\"query{\n",
    "        demarche(number: 30928) {\n",
    "            id\n",
    "            dossiers(state:accepte after:\\\"\"\"\"+endCursor+\"\"\"\\\") { \n",
    "                nodes {\n",
    "                    champs {\n",
    "                        label\n",
    "                        stringValue\n",
    "\n",
    "                    }\n",
    "                    annotations {\n",
    "                        label\n",
    "                        stringValue\n",
    "                    }\n",
    "                    number\n",
    "                    id\n",
    "                    state\n",
    "                    demandeur { \n",
    "                        ... on PersonnePhysique { \n",
    "                            civilite\n",
    "                            nom\n",
    "                            prenom\n",
    "                        } \n",
    "                        ... on PersonneMorale { \n",
    "                            siret\n",
    "                            codePostal\n",
    "                            naf\n",
    "                        }\n",
    "                    }\n",
    "                    groupeInstructeur{\n",
    "                        label\n",
    "                    }\n",
    "                }\n",
    "\n",
    "                  pageInfo {\n",
    "                    hasNextPage\n",
    "                    endCursor\n",
    "                  }\n",
    "            }\n",
    "        } \n",
    "    }\"\"\"\n",
    "    headers = {\"Authorization\": \"Bearer \"+config['DS']['bearer']}\n",
    "    url = 'https://www.demarches-simplifiees.fr/api/v2/graphql'\n",
    "    r = requests.post(url, headers=headers, json={'query': query})\n",
    "    print(r.status_code)\n",
    "    data = r.json()\n",
    "    hasNextPage = data['data']['demarche']['dossiers']['pageInfo']['hasNextPage']\n",
    "    endCursor = data['data']['demarche']['dossiers']['pageInfo']['endCursor']\n",
    "    for d in data['data']['demarche']['dossiers']['nodes']:\n",
    "        mydict = {}\n",
    "        mydict['number'] = d['number']\n",
    "        mydict['id'] = d['id']\n",
    "        mydict['state'] = d['state']\n",
    "        mydict['siret'] = d['demandeur']['siret']\n",
    "        mydict['codePostal'] = d['demandeur']['codePostal']\n",
    "        mydict['naf'] = d['demandeur']['naf']\n",
    "\n",
    "        mydict['groupe_instructeur'] = d['groupeInstructeur']['label']\n",
    "\n",
    "        for c in d['champs']:\n",
    "            mydict[c['label']] = c['stringValue']\n",
    "        for a in d['annotations']:\n",
    "            mydict[a['label']] = a['stringValue']\n",
    "        arr.append(mydict)"
   ]
  },
  {
   "cell_type": "code",
   "execution_count": 3,
   "metadata": {},
   "outputs": [],
   "source": [
    "df = pd.DataFrame(arr)"
   ]
  },
  {
   "cell_type": "code",
   "execution_count": 4,
   "metadata": {},
   "outputs": [
    {
     "data": {
      "text/plain": [
       "(110, 160)"
      ]
     },
     "execution_count": 4,
     "metadata": {},
     "output_type": "execute_result"
    }
   ],
   "source": [
    "df.shape"
   ]
  },
  {
   "cell_type": "code",
   "execution_count": 5,
   "metadata": {},
   "outputs": [
    {
     "data": {
      "text/plain": [
       "accepte    110\n",
       "Name: state, dtype: int64"
      ]
     },
     "execution_count": 5,
     "metadata": {},
     "output_type": "execute_result"
    }
   ],
   "source": [
    "df.state.value_counts()"
   ]
  },
  {
   "cell_type": "code",
   "execution_count": 6,
   "metadata": {},
   "outputs": [],
   "source": [
    "dffinal = df[['id','siret','naf','state',\n",
    "              'Montant total du prêt demandé',\n",
    "              'Montant proposé','Durée du prêt','Quelle forme prend l\\'aide ?',\n",
    "              'codePostal','Quels sont vos effectifs ?',\n",
    "              'groupe_instructeur','Département']]"
   ]
  },
  {
   "cell_type": "code",
   "execution_count": 7,
   "metadata": {},
   "outputs": [],
   "source": [
    "dffinal = dffinal.rename(columns={\n",
    "    'naf':'code_naf',\n",
    "    'state':'statut',\n",
    "    'Montant total du prêt demandé':'montant_demande',\n",
    "    'Montant proposé':'montant',\n",
    "    'Quelle forme prend l\\'aide ?':'type_aide',\n",
    "    'Durée du prêt':'duree',\n",
    "    'Quels sont vos effectifs ?':'effectifs',\n",
    "    'Département':'departement'\n",
    "})"
   ]
  },
  {
   "cell_type": "code",
   "execution_count": 8,
   "metadata": {},
   "outputs": [],
   "source": [
    "dffinal.effectifs = dffinal.effectifs.astype(float)"
   ]
  },
  {
   "cell_type": "code",
   "execution_count": 9,
   "metadata": {},
   "outputs": [
    {
     "data": {
      "text/html": [
       "<div>\n",
       "<style scoped>\n",
       "    .dataframe tbody tr th:only-of-type {\n",
       "        vertical-align: middle;\n",
       "    }\n",
       "\n",
       "    .dataframe tbody tr th {\n",
       "        vertical-align: top;\n",
       "    }\n",
       "\n",
       "    .dataframe thead th {\n",
       "        text-align: right;\n",
       "    }\n",
       "</style>\n",
       "<table border=\"1\" class=\"dataframe\">\n",
       "  <thead>\n",
       "    <tr style=\"text-align: right;\">\n",
       "      <th></th>\n",
       "      <th>id</th>\n",
       "      <th>siret</th>\n",
       "      <th>code_naf</th>\n",
       "      <th>statut</th>\n",
       "      <th>montant_demande</th>\n",
       "      <th>montant</th>\n",
       "      <th>duree</th>\n",
       "      <th>type_aide</th>\n",
       "      <th>codePostal</th>\n",
       "      <th>effectifs</th>\n",
       "      <th>groupe_instructeur</th>\n",
       "      <th>departement</th>\n",
       "    </tr>\n",
       "  </thead>\n",
       "  <tbody>\n",
       "    <tr>\n",
       "      <th>25</th>\n",
       "      <td>RG9zc2llci0yMDQ3MjU4</td>\n",
       "      <td>50226772700019</td>\n",
       "      <td>3832Z</td>\n",
       "      <td>accepte</td>\n",
       "      <td>2034000</td>\n",
       "      <td>800000</td>\n",
       "      <td>6</td>\n",
       "      <td>Prêt à taux bonifié</td>\n",
       "      <td>38570</td>\n",
       "      <td>-18.0</td>\n",
       "      <td>Auvergne-Rhône-Alpes</td>\n",
       "      <td>38 - Isère</td>\n",
       "    </tr>\n",
       "    <tr>\n",
       "      <th>102</th>\n",
       "      <td>RG9zc2llci0zMjA1MDE5</td>\n",
       "      <td>31176543200043</td>\n",
       "      <td>2932Z</td>\n",
       "      <td>accepte</td>\n",
       "      <td>-500000</td>\n",
       "      <td>250000</td>\n",
       "      <td>10</td>\n",
       "      <td>Avance remboursable</td>\n",
       "      <td>18230</td>\n",
       "      <td>-32.0</td>\n",
       "      <td>Centre-Val de Loire</td>\n",
       "      <td>18 - Cher</td>\n",
       "    </tr>\n",
       "  </tbody>\n",
       "</table>\n",
       "</div>"
      ],
      "text/plain": [
       "                       id           siret code_naf   statut montant_demande  \\\n",
       "25   RG9zc2llci0yMDQ3MjU4  50226772700019    3832Z  accepte         2034000   \n",
       "102  RG9zc2llci0zMjA1MDE5  31176543200043    2932Z  accepte         -500000   \n",
       "\n",
       "    montant duree            type_aide codePostal  effectifs  \\\n",
       "25   800000     6  Prêt à taux bonifié      38570      -18.0   \n",
       "102  250000    10  Avance remboursable      18230      -32.0   \n",
       "\n",
       "       groupe_instructeur departement  \n",
       "25   Auvergne-Rhône-Alpes  38 - Isère  \n",
       "102   Centre-Val de Loire   18 - Cher  "
      ]
     },
     "execution_count": 9,
     "metadata": {},
     "output_type": "execute_result"
    }
   ],
   "source": [
    "dffinal[dffinal['effectifs'] < 0]"
   ]
  },
  {
   "cell_type": "code",
   "execution_count": 10,
   "metadata": {},
   "outputs": [],
   "source": [
    "dffinal.montant = dffinal.montant.astype(float)"
   ]
  },
  {
   "cell_type": "code",
   "execution_count": 11,
   "metadata": {},
   "outputs": [
    {
     "data": {
      "text/plain": [
       "78921407.0"
      ]
     },
     "execution_count": 11,
     "metadata": {},
     "output_type": "execute_result"
    }
   ],
   "source": [
    "dffinal.montant.sum()"
   ]
  },
  {
   "cell_type": "code",
   "execution_count": 12,
   "metadata": {},
   "outputs": [],
   "source": [
    "dffinal['dep'] = dffinal['departement'].apply(lambda x: x.split(\" - \")[0])"
   ]
  },
  {
   "cell_type": "code",
   "execution_count": 13,
   "metadata": {},
   "outputs": [],
   "source": [
    "import time"
   ]
  },
  {
   "cell_type": "code",
   "execution_count": 14,
   "metadata": {},
   "outputs": [],
   "source": [
    "siret_for_api = dffinal.siret.unique()"
   ]
  },
  {
   "cell_type": "code",
   "execution_count": 15,
   "metadata": {},
   "outputs": [
    {
     "name": "stdout",
     "output_type": "stream",
     "text": [
      "10\n",
      "20\n",
      "30\n",
      "40\n",
      "50\n",
      "60\n",
      "70\n",
      "80\n",
      "90\n",
      "100\n",
      "110\n"
     ]
    }
   ],
   "source": [
    "# Pour chaque SIRET on appelle l'API entreprise pour voir si on récupère des informations\n",
    "# au niveau du SIRET\n",
    "arr = []\n",
    "i = 0\n",
    "for siret in siret_for_api:\n",
    "    # On ne doit pas surcharger l'API donc on met un temps entre chaque requête (il y a un quota à ne pas dépasser)\n",
    "    # C'est un peu long...\n",
    "    time.sleep(0.3)\n",
    "    i = i + 1\n",
    "    if(i%10 == 0):\n",
    "        print(str(i))\n",
    "    row = {}\n",
    "    url = \"https://entreprise.api.gouv.fr/v2/effectifs_annuels_acoss_covid/\"+siret[:9]+\"?non_diffusables=true&recipient=13001653800014&object=dgefp&context=%22dashboard%20aides%20aux%20entreprises%22&token=\"+config['API']['token']\n",
    "    try:\n",
    "        r = requests.get(url=url)\n",
    "        try:\n",
    "            mydict = r.json()\n",
    "        except:\n",
    "            pass\n",
    "        if \"effectifs_annuels\" in mydict:\n",
    "            arr.append(mydict)\n",
    "    except requests.exceptions.ConnectionError:\n",
    "        print(\"Error : \"+siret)"
   ]
  },
  {
   "cell_type": "code",
   "execution_count": 16,
   "metadata": {},
   "outputs": [],
   "source": [
    "dfapi = pd.DataFrame(arr)"
   ]
  },
  {
   "cell_type": "code",
   "execution_count": 17,
   "metadata": {},
   "outputs": [],
   "source": [
    "dfapi = dfapi.drop_duplicates(subset=['siren'], keep='first')"
   ]
  },
  {
   "cell_type": "code",
   "execution_count": 18,
   "metadata": {},
   "outputs": [],
   "source": [
    "dffinal['siren'] = dffinal['siret'].apply(lambda x: str(x)[:9])"
   ]
  },
  {
   "cell_type": "code",
   "execution_count": 19,
   "metadata": {},
   "outputs": [],
   "source": [
    "dffinal = pd.merge(dffinal,dfapi,on='siren',how='left')"
   ]
  },
  {
   "cell_type": "code",
   "execution_count": 20,
   "metadata": {},
   "outputs": [],
   "source": [
    "dffinal['effectifs_annuels'] = dffinal['effectifs_annuels'].apply(lambda x: int(float(x)) if x == x else x)"
   ]
  },
  {
   "cell_type": "code",
   "execution_count": 21,
   "metadata": {},
   "outputs": [],
   "source": [
    "dffinal.loc[dffinal.effectifs_annuels.isna(),'effectifs_annuels']=dffinal['effectifs']"
   ]
  },
  {
   "cell_type": "code",
   "execution_count": 22,
   "metadata": {},
   "outputs": [],
   "source": [
    "reg = pd.read_csv(\"https://raw.githubusercontent.com/etalab/dashboard-aides-entreprises/master/utils/region2019.csv\",dtype=str)\n",
    "dep = pd.read_csv(\"https://raw.githubusercontent.com/etalab/dashboard-aides-entreprises/master/utils/departement2019.csv\",dtype=str)"
   ]
  },
  {
   "cell_type": "code",
   "execution_count": 23,
   "metadata": {},
   "outputs": [],
   "source": [
    "dep = dep[['dep','reg']]\n",
    "reg = reg[['reg','libelle']]"
   ]
  },
  {
   "cell_type": "code",
   "execution_count": 24,
   "metadata": {},
   "outputs": [],
   "source": [
    "dep = pd.merge(dep,reg,on='reg',how='left')"
   ]
  },
  {
   "cell_type": "code",
   "execution_count": 25,
   "metadata": {},
   "outputs": [],
   "source": [
    "dffinal = pd.merge(dffinal,dep,on='dep',how='left')"
   ]
  },
  {
   "cell_type": "code",
   "execution_count": 26,
   "metadata": {},
   "outputs": [],
   "source": [
    "dffinal = dffinal[['montant','effectifs_annuels','reg','libelle','type_aide']]"
   ]
  },
  {
   "cell_type": "code",
   "execution_count": 27,
   "metadata": {},
   "outputs": [],
   "source": [
    "dffinal = dffinal.rename(columns={'effectifs_annuels':'effectifs'})"
   ]
  },
  {
   "cell_type": "code",
   "execution_count": 28,
   "metadata": {},
   "outputs": [],
   "source": [
    "dffinal.effectifs = dffinal.effectifs.astype(float)\n",
    "dffinal.montant = dffinal.montant.astype(float)"
   ]
  },
  {
   "cell_type": "code",
   "execution_count": 29,
   "metadata": {},
   "outputs": [],
   "source": [
    "arr = []\n",
    "mydict = {}\n",
    "mydict['type'] = []\n",
    "\n",
    "mydict2 = {}\n",
    "mydict2['libelle'] = 'Prêt à taux bonifié'\n",
    "mydict2['nombre'] = str(dffinal[dffinal['type_aide'] == 'Prêt à taux bonifié'].shape[0])\n",
    "mydict2['montant'] = str(dffinal[dffinal['type_aide'] == 'Prêt à taux bonifié'].montant.sum())\n",
    "mydict2['effectifs'] = str(dffinal[dffinal['type_aide'] == 'Prêt à taux bonifié'].effectifs.sum())\n",
    "mydict['type'].append(mydict2)\n",
    "\n",
    "mydict2 = {}\n",
    "mydict2['libelle'] = 'Avance remboursable'\n",
    "mydict2['nombre'] = str(dffinal[dffinal['type_aide'] == 'Avance remboursable'].shape[0])\n",
    "mydict2['montant'] = str(dffinal[dffinal['type_aide'] == 'Avance remboursable'].montant.sum())\n",
    "mydict2['effectifs'] = str(dffinal[dffinal['type_aide'] == 'Avance remboursable'].effectifs.sum())\n",
    "mydict['type'].append(mydict2)\n",
    "\n",
    "mydict['nombre'] = str(dffinal.shape[0])\n",
    "mydict['montant'] = str(dffinal.montant.sum())\n",
    "mydict['effectifs'] = str(dffinal.effectifs.sum())\n",
    "\n",
    "arr.append(mydict)"
   ]
  },
  {
   "cell_type": "code",
   "execution_count": 30,
   "metadata": {},
   "outputs": [
    {
     "data": {
      "text/plain": [
       "[{'type': [{'libelle': 'Prêt à taux bonifié',\n",
       "    'nombre': '86',\n",
       "    'montant': '67305607.0',\n",
       "    'effectifs': '6432.0'},\n",
       "   {'libelle': 'Avance remboursable',\n",
       "    'nombre': '24',\n",
       "    'montant': '11615800.0',\n",
       "    'effectifs': '833.0'}],\n",
       "  'nombre': '110',\n",
       "  'montant': '78921407.0',\n",
       "  'effectifs': '7265.0'}]"
      ]
     },
     "execution_count": 30,
     "metadata": {},
     "output_type": "execute_result"
    }
   ],
   "source": [
    "arr"
   ]
  },
  {
   "cell_type": "code",
   "execution_count": 31,
   "metadata": {},
   "outputs": [],
   "source": [
    "with open('arpb-maille-national.json', 'w') as outfile:\n",
    "            json.dump(arr, outfile)"
   ]
  },
  {
   "cell_type": "code",
   "execution_count": 32,
   "metadata": {},
   "outputs": [
    {
     "data": {
      "text/plain": [
       "6432.0"
      ]
     },
     "execution_count": 32,
     "metadata": {},
     "output_type": "execute_result"
    }
   ],
   "source": [
    "dffinal[dffinal['type_aide'] == 'Prêt à taux bonifié'].effectifs.sum()"
   ]
  },
  {
   "cell_type": "code",
   "execution_count": 33,
   "metadata": {},
   "outputs": [],
   "source": [
    "arr = []\n",
    "for r in reg.reg.unique():\n",
    "    if(dffinal[dffinal['reg'] == r].shape[0] > 0):\n",
    "    \n",
    "        mydict = {}\n",
    "        mydict['type'] = []\n",
    "\n",
    "        mydict2 = {}\n",
    "        mydict2['libelle'] = 'Prêt à taux bonifié'\n",
    "        mydict2['nombre'] = str(dffinal[(dffinal['type_aide'] == 'Prêt à taux bonifié') & (dffinal['reg'] == r)].shape[0])\n",
    "        mydict2['montant'] = str(dffinal[(dffinal['type_aide'] == 'Prêt à taux bonifié') & (dffinal['reg'] == r)].montant.sum())\n",
    "        mydict2['effectifs'] = str(dffinal[(dffinal['type_aide'] == 'Prêt à taux bonifié') & (dffinal['reg'] == r)].effectifs.sum())\n",
    "        mydict['type'].append(mydict2)\n",
    "\n",
    "        mydict2 = {}\n",
    "        mydict2['libelle'] = 'Avance remboursable'\n",
    "        mydict2['nombre'] = str(dffinal[(dffinal['type_aide'] == 'Avance remboursable') & (dffinal['reg'] == r)].shape[0])\n",
    "        mydict2['montant'] = str(dffinal[(dffinal['type_aide'] == 'Avance remboursable') & (dffinal['reg'] == r)].montant.sum())\n",
    "        mydict2['effectifs'] = str(dffinal[(dffinal['type_aide'] == 'Avance remboursable') & (dffinal['reg'] == r)].effectifs.sum())\n",
    "        mydict['type'].append(mydict2)\n",
    "\n",
    "        mydict['nombre'] = str(dffinal[dffinal['reg'] == r].shape[0])\n",
    "        mydict['montant'] = str(dffinal[dffinal['reg'] == r].montant.sum())\n",
    "        mydict['effectifs'] = str(dffinal[dffinal['reg'] == r].effectifs.sum())\n",
    "\n",
    "    else:\n",
    "        mydict = {}\n",
    "        mydict['type'] = None\n",
    "        mydict['nombre'] = None\n",
    "        mydict['montant'] = None\n",
    "        mydict['effectifs'] = None\n",
    "    mydict['reg'] = r\n",
    "    mydict['libelle'] = reg[reg['reg'] == r].iloc[0]['libelle']\n",
    "    arr.append(mydict)"
   ]
  },
  {
   "cell_type": "code",
   "execution_count": 34,
   "metadata": {},
   "outputs": [
    {
     "data": {
      "text/plain": [
       "[{'type': None,\n",
       "  'nombre': None,\n",
       "  'montant': None,\n",
       "  'effectifs': None,\n",
       "  'reg': '01',\n",
       "  'libelle': 'Guadeloupe'},\n",
       " {'type': None,\n",
       "  'nombre': None,\n",
       "  'montant': None,\n",
       "  'effectifs': None,\n",
       "  'reg': '02',\n",
       "  'libelle': 'Martinique'},\n",
       " {'type': None,\n",
       "  'nombre': None,\n",
       "  'montant': None,\n",
       "  'effectifs': None,\n",
       "  'reg': '03',\n",
       "  'libelle': 'Guyane'},\n",
       " {'type': [{'libelle': 'Prêt à taux bonifié',\n",
       "    'nombre': '0',\n",
       "    'montant': '0.0',\n",
       "    'effectifs': '0.0'},\n",
       "   {'libelle': 'Avance remboursable',\n",
       "    'nombre': '4',\n",
       "    'montant': '1140000.0',\n",
       "    'effectifs': '37.0'}],\n",
       "  'nombre': '4',\n",
       "  'montant': '1140000.0',\n",
       "  'effectifs': '37.0',\n",
       "  'reg': '04',\n",
       "  'libelle': 'La Réunion'},\n",
       " {'type': None,\n",
       "  'nombre': None,\n",
       "  'montant': None,\n",
       "  'effectifs': None,\n",
       "  'reg': '06',\n",
       "  'libelle': 'Mayotte'},\n",
       " {'type': [{'libelle': 'Prêt à taux bonifié',\n",
       "    'nombre': '10',\n",
       "    'montant': '6115000.0',\n",
       "    'effectifs': '855.0'},\n",
       "   {'libelle': 'Avance remboursable',\n",
       "    'nombre': '2',\n",
       "    'montant': '1100000.0',\n",
       "    'effectifs': '75.0'}],\n",
       "  'nombre': '12',\n",
       "  'montant': '7215000.0',\n",
       "  'effectifs': '930.0',\n",
       "  'reg': '11',\n",
       "  'libelle': 'Île-de-France'},\n",
       " {'type': [{'libelle': 'Prêt à taux bonifié',\n",
       "    'nombre': '6',\n",
       "    'montant': '5371899.0',\n",
       "    'effectifs': '511.0'},\n",
       "   {'libelle': 'Avance remboursable',\n",
       "    'nombre': '1',\n",
       "    'montant': '250000.0',\n",
       "    'effectifs': '31.0'}],\n",
       "  'nombre': '7',\n",
       "  'montant': '5621899.0',\n",
       "  'effectifs': '542.0',\n",
       "  'reg': '24',\n",
       "  'libelle': 'Centre-Val de Loire'},\n",
       " {'type': [{'libelle': 'Prêt à taux bonifié',\n",
       "    'nombre': '6',\n",
       "    'montant': '4520000.0',\n",
       "    'effectifs': '413.0'},\n",
       "   {'libelle': 'Avance remboursable',\n",
       "    'nombre': '1',\n",
       "    'montant': '600000.0',\n",
       "    'effectifs': '65.0'}],\n",
       "  'nombre': '7',\n",
       "  'montant': '5120000.0',\n",
       "  'effectifs': '478.0',\n",
       "  'reg': '27',\n",
       "  'libelle': 'Bourgogne-Franche-Comté'},\n",
       " {'type': [{'libelle': 'Prêt à taux bonifié',\n",
       "    'nombre': '7',\n",
       "    'montant': '5140920.0',\n",
       "    'effectifs': '491.0'},\n",
       "   {'libelle': 'Avance remboursable',\n",
       "    'nombre': '2',\n",
       "    'montant': '1115000.0',\n",
       "    'effectifs': '32.0'}],\n",
       "  'nombre': '9',\n",
       "  'montant': '6255920.0',\n",
       "  'effectifs': '523.0',\n",
       "  'reg': '28',\n",
       "  'libelle': 'Normandie'},\n",
       " {'type': [{'libelle': 'Prêt à taux bonifié',\n",
       "    'nombre': '8',\n",
       "    'montant': '4322300.0',\n",
       "    'effectifs': '494.0'},\n",
       "   {'libelle': 'Avance remboursable',\n",
       "    'nombre': '4',\n",
       "    'montant': '1200800.0',\n",
       "    'effectifs': '118.0'}],\n",
       "  'nombre': '12',\n",
       "  'montant': '5523100.0',\n",
       "  'effectifs': '612.0',\n",
       "  'reg': '32',\n",
       "  'libelle': 'Hauts-de-France'},\n",
       " {'type': [{'libelle': 'Prêt à taux bonifié',\n",
       "    'nombre': '12',\n",
       "    'montant': '11564438.0',\n",
       "    'effectifs': '1024.0'},\n",
       "   {'libelle': 'Avance remboursable',\n",
       "    'nombre': '1',\n",
       "    'montant': '690000.0',\n",
       "    'effectifs': '13.0'}],\n",
       "  'nombre': '13',\n",
       "  'montant': '12254438.0',\n",
       "  'effectifs': '1037.0',\n",
       "  'reg': '44',\n",
       "  'libelle': 'Grand Est'},\n",
       " {'type': [{'libelle': 'Prêt à taux bonifié',\n",
       "    'nombre': '1',\n",
       "    'montant': '200000.0',\n",
       "    'effectifs': '67.0'},\n",
       "   {'libelle': 'Avance remboursable',\n",
       "    'nombre': '0',\n",
       "    'montant': '0.0',\n",
       "    'effectifs': '0.0'}],\n",
       "  'nombre': '1',\n",
       "  'montant': '200000.0',\n",
       "  'effectifs': '67.0',\n",
       "  'reg': '52',\n",
       "  'libelle': 'Pays de la Loire'},\n",
       " {'type': [{'libelle': 'Prêt à taux bonifié',\n",
       "    'nombre': '3',\n",
       "    'montant': '5850000.0',\n",
       "    'effectifs': '334.0'},\n",
       "   {'libelle': 'Avance remboursable',\n",
       "    'nombre': '4',\n",
       "    'montant': '2800000.0',\n",
       "    'effectifs': '204.0'}],\n",
       "  'nombre': '7',\n",
       "  'montant': '8650000.0',\n",
       "  'effectifs': '538.0',\n",
       "  'reg': '53',\n",
       "  'libelle': 'Bretagne'},\n",
       " {'type': [{'libelle': 'Prêt à taux bonifié',\n",
       "    'nombre': '12',\n",
       "    'montant': '6600300.0',\n",
       "    'effectifs': '895.0'},\n",
       "   {'libelle': 'Avance remboursable',\n",
       "    'nombre': '0',\n",
       "    'montant': '0.0',\n",
       "    'effectifs': '0.0'}],\n",
       "  'nombre': '12',\n",
       "  'montant': '6600300.0',\n",
       "  'effectifs': '895.0',\n",
       "  'reg': '75',\n",
       "  'libelle': 'Nouvelle-Aquitaine'},\n",
       " {'type': [{'libelle': 'Prêt à taux bonifié',\n",
       "    'nombre': '2',\n",
       "    'montant': '760750.0',\n",
       "    'effectifs': '309.0'},\n",
       "   {'libelle': 'Avance remboursable',\n",
       "    'nombre': '2',\n",
       "    'montant': '1400000.0',\n",
       "    'effectifs': '110.0'}],\n",
       "  'nombre': '4',\n",
       "  'montant': '2160750.0',\n",
       "  'effectifs': '419.0',\n",
       "  'reg': '76',\n",
       "  'libelle': 'Occitanie'},\n",
       " {'type': [{'libelle': 'Prêt à taux bonifié',\n",
       "    'nombre': '15',\n",
       "    'montant': '13960000.0',\n",
       "    'effectifs': '819.0'},\n",
       "   {'libelle': 'Avance remboursable',\n",
       "    'nombre': '1',\n",
       "    'montant': '370000.0',\n",
       "    'effectifs': '67.0'}],\n",
       "  'nombre': '16',\n",
       "  'montant': '14330000.0',\n",
       "  'effectifs': '886.0',\n",
       "  'reg': '84',\n",
       "  'libelle': 'Auvergne-Rhône-Alpes'},\n",
       " {'type': [{'libelle': 'Prêt à taux bonifié',\n",
       "    'nombre': '3',\n",
       "    'montant': '2200000.0',\n",
       "    'effectifs': '201.0'},\n",
       "   {'libelle': 'Avance remboursable',\n",
       "    'nombre': '2',\n",
       "    'montant': '950000.0',\n",
       "    'effectifs': '81.0'}],\n",
       "  'nombre': '5',\n",
       "  'montant': '3150000.0',\n",
       "  'effectifs': '282.0',\n",
       "  'reg': '93',\n",
       "  'libelle': \"Provence-Alpes-Côte d'Azur\"},\n",
       " {'type': [{'libelle': 'Prêt à taux bonifié',\n",
       "    'nombre': '1',\n",
       "    'montant': '700000.0',\n",
       "    'effectifs': '19.0'},\n",
       "   {'libelle': 'Avance remboursable',\n",
       "    'nombre': '0',\n",
       "    'montant': '0.0',\n",
       "    'effectifs': '0.0'}],\n",
       "  'nombre': '1',\n",
       "  'montant': '700000.0',\n",
       "  'effectifs': '19.0',\n",
       "  'reg': '94',\n",
       "  'libelle': 'Corse'}]"
      ]
     },
     "execution_count": 34,
     "metadata": {},
     "output_type": "execute_result"
    }
   ],
   "source": [
    "arr"
   ]
  },
  {
   "cell_type": "code",
   "execution_count": 35,
   "metadata": {},
   "outputs": [],
   "source": [
    "with open('arpb-maille-regional.json', 'w') as outfile:\n",
    "            json.dump(arr, outfile)"
   ]
  },
  {
   "cell_type": "code",
   "execution_count": 36,
   "metadata": {},
   "outputs": [],
   "source": [
    "arr = []\n",
    "with open('arpb-maille-departemental.json', 'w') as outfile:\n",
    "            json.dump(arr, outfile)"
   ]
  },
  {
   "cell_type": "code",
   "execution_count": 37,
   "metadata": {},
   "outputs": [],
   "source": [
    "dfgb = dffinal.groupby(['reg','libelle','type_aide'],as_index=False).sum()"
   ]
  },
  {
   "cell_type": "code",
   "execution_count": 38,
   "metadata": {},
   "outputs": [],
   "source": [
    "dfgb.to_csv(\"prets-directs-etat-regional.csv\",index=False)"
   ]
  },
  {
   "cell_type": "code",
   "execution_count": 39,
   "metadata": {},
   "outputs": [],
   "source": [
    "dfgb = dfgb.groupby(['type_aide'],as_index=False).sum()"
   ]
  },
  {
   "cell_type": "code",
   "execution_count": 40,
   "metadata": {},
   "outputs": [],
   "source": [
    "dfgb.to_csv(\"prets-directs-etat-national.csv\",index=False)"
   ]
  },
  {
   "cell_type": "code",
   "execution_count": 41,
   "metadata": {},
   "outputs": [
    {
     "data": {
      "text/html": [
       "<div>\n",
       "<style scoped>\n",
       "    .dataframe tbody tr th:only-of-type {\n",
       "        vertical-align: middle;\n",
       "    }\n",
       "\n",
       "    .dataframe tbody tr th {\n",
       "        vertical-align: top;\n",
       "    }\n",
       "\n",
       "    .dataframe thead th {\n",
       "        text-align: right;\n",
       "    }\n",
       "</style>\n",
       "<table border=\"1\" class=\"dataframe\">\n",
       "  <thead>\n",
       "    <tr style=\"text-align: right;\">\n",
       "      <th></th>\n",
       "      <th>type_aide</th>\n",
       "      <th>montant</th>\n",
       "      <th>effectifs</th>\n",
       "    </tr>\n",
       "  </thead>\n",
       "  <tbody>\n",
       "    <tr>\n",
       "      <th>0</th>\n",
       "      <td>Avance remboursable</td>\n",
       "      <td>11615800.0</td>\n",
       "      <td>833.0</td>\n",
       "    </tr>\n",
       "    <tr>\n",
       "      <th>1</th>\n",
       "      <td>Prêt à taux bonifié</td>\n",
       "      <td>67305607.0</td>\n",
       "      <td>6432.0</td>\n",
       "    </tr>\n",
       "  </tbody>\n",
       "</table>\n",
       "</div>"
      ],
      "text/plain": [
       "             type_aide     montant  effectifs\n",
       "0  Avance remboursable  11615800.0      833.0\n",
       "1  Prêt à taux bonifié  67305607.0     6432.0"
      ]
     },
     "execution_count": 41,
     "metadata": {},
     "output_type": "execute_result"
    }
   ],
   "source": [
    "dfgb"
   ]
  },
  {
   "cell_type": "code",
   "execution_count": null,
   "metadata": {},
   "outputs": [],
   "source": []
  }
 ],
 "metadata": {
  "kernelspec": {
   "display_name": "Python 3",
   "language": "python",
   "name": "python3"
  },
  "language_info": {
   "codemirror_mode": {
    "name": "ipython",
    "version": 3
   },
   "file_extension": ".py",
   "mimetype": "text/x-python",
   "name": "python",
   "nbconvert_exporter": "python",
   "pygments_lexer": "ipython3",
   "version": "3.7.3"
  }
 },
 "nbformat": 4,
 "nbformat_minor": 4
}
